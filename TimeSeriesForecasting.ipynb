{
 "cells": [
  {
   "cell_type": "markdown",
   "metadata": {},
   "source": [
    "Trying to replicate models developed by David Thaler:\n",
    "\n",
    "https://www.kaggle.com/c/walmart-recruiting-store-sales-forecasting/forums/t/8125/first-place-entry/56111#post56111\n",
    "\n",
    "https://bitbucket.org/dthal/kaggle_walmart"
   ]
  },
  {
   "cell_type": "code",
   "execution_count": 3,
   "metadata": {
    "collapsed": true
   },
   "outputs": [],
   "source": [
    "import pandas as pd\n",
    "import numpy as np\n",
    "import matplotlib.pyplot as plt\n",
    "%matplotlib inline\n",
    "from sklearn.ensemble import RandomForestRegressor"
   ]
  },
  {
   "cell_type": "code",
   "execution_count": 17,
   "metadata": {
    "collapsed": false
   },
   "outputs": [],
   "source": [
    "# 10 stores to test models on: [769, 1097, 85, 562, 262, 733, 494, 682, 335, 423]\n",
    "id_list = [769, 1097, 85, 562, 262, 733, 494, 682, 335, 423]\n",
    "\n",
    "data = pd.read_csv('train.csv', parse_dates = ['Date'])\n",
    "#data = data[data['Open'] != 0]\n",
    "#store = pd.read_csv('store.csv')  \n",
    "\n",
    "#df = data.merge(store, on = 'Store', copy = False)\n",
    "\n",
    "test_raw = pd.read_csv('test.csv', parse_dates = ['Date'])"
   ]
  },
  {
   "cell_type": "code",
   "execution_count": 75,
   "metadata": {
    "collapsed": false
   },
   "outputs": [],
   "source": [
    "train = data[data.Store.isin(set(id_list))][['Store','DayOfWeek','Date','Sales','Promo',\n",
    "                                             'StateHoliday','SchoolHoliday']]\n",
    "train['woy'] = train\n",
    "#train.set_index('Date', inplace=True)\n",
    "#train.head()\n",
    "\n",
    "test = test_raw[test_raw.Store.isin(set(id_list))][['Store','DayOfWeek','Date','Promo',\n",
    "                                             'StateHoliday','SchoolHoliday']]\n",
    "#test.set_index('Date', inplace=True)\n",
    "#print test.head()\n",
    "#print test.tail()"
   ]
  },
  {
   "cell_type": "code",
   "execution_count": 215,
   "metadata": {
    "collapsed": false
   },
   "outputs": [],
   "source": [
    "def naive(train, test):\n",
    "    '''\n",
    "    Computes naive forecasts\n",
    "    \n",
    "    INPUT:\n",
    "    train - dataframe of daily sales values [1 row for each (date, Store) duple]\n",
    "    test - dataframe of daily store information [1 row for each (date, Store) duple]\n",
    "    \n",
    "    OUTPUT:\n",
    "    out - dataframe of test data with columns: date, Store, Forecasted Sales\n",
    "    '''\n",
    "    # Make a copy of the test dataframe to use for forecasting\n",
    "    out = test[['Store','Date']]\n",
    "    out.set_index('Date', inplace=True)\n",
    "    \n",
    "    # Subset only the last observation from the train dataframe\n",
    "    # The sales on this day will be used for the naive forecast\n",
    "    tr = train.loc[train.Date==train.Date.max(),:]\n",
    "    tr.set_index('Store', inplace=True)\n",
    "    \n",
    "    # Apply the last know sales value to each forecast date in the\n",
    "    # test data\n",
    "    out.loc[:,'SalesForecast'] = out.Store.map(tr.Sales).values\n",
    "    return out\n",
    "\n",
    "def seasonal_naive(train, test):\n",
    "    '''\n",
    "    Computes seasonal naive forecasts\n",
    "    \n",
    "    INPUT:\n",
    "    train - dataframe of daily sales values [1 row for each (date, Store) duple]\n",
    "    test - dataframe of daily store information [1 row for each (date, Store) duple]\n",
    "    \n",
    "    OUTPUT:\n",
    "    out - dataframe of test data with columns: date, Store, Forecasted Sales\n",
    "    '''\n",
    "    lag = 364 # lag by 364 days (won't work in leap year)\n",
    "    \n",
    "    # Make a copy of the test dataframe to use for forecasting\n",
    "    out = test[['Store','Date','Promo']]\n",
    "    out.set_index(['Date','Store'], inplace=True)\n",
    "    \n",
    "    '''\n",
    "    # Make a pivot table of Sales values with  Date x Store\n",
    "    tr = pd.pivot_table(train, values='Sales', index='Date', \n",
    "                            columns='Store', aggfunc=np.mean)\n",
    "    \n",
    "    # lag the pivot table by 364 days and adjust the date\n",
    "    # this step insures that the indices will line up with the test data\n",
    "    tr_lag = tr.iloc[-lag:,:]\n",
    "    tr_lag.index = tr_lag.index + np.timedelta64(lag,'D')\n",
    "\n",
    "    # unstack and reindex the pivot table so that it's in the same format\n",
    "    # as the test data\n",
    "    tr_lag = tr_lag.unstack().reset_index().set_index(['Date','Store'])\n",
    "    '''\n",
    "    # Reset date index to lag data by +364 days. This shift ensures that\n",
    "    # the test data is set to the same weekday from 1 year ago\n",
    "    # (does not take into account leap years)\n",
    "    tr_lag = train[['Sales','Date','Store']]\n",
    "    tr_lag.loc[:,'Date'] = tr_lag.Date + np.timedelta64(lag,'D')\n",
    "    tr_lag = tr_lag.set_index(['Date','Store'])\n",
    "    \n",
    "    # Merge data, keeping only dates from test data\n",
    "    out = out.merge(pd.DataFrame(tr_lag), how='left', left_index=True, right_index=True).drop('Promo',axis=1)\n",
    "    out.columns = ['SalesForecast']\n",
    "    \n",
    "    return out\n",
    "\n",
    "def product(train, test):\n",
    "    '''\n",
    "    Computes forecasts with the product model. This model predicts the mean\n",
    "    value by store times the mean value by week divided by the mean value\n",
    "    '''"
   ]
  },
  {
   "cell_type": "code",
   "execution_count": 216,
   "metadata": {
    "collapsed": false
   },
   "outputs": [],
   "source": [
    "out = seasonal_naive(train, test)"
   ]
  },
  {
   "cell_type": "code",
   "execution_count": 217,
   "metadata": {
    "collapsed": false
   },
   "outputs": [
    {
     "data": {
      "text/html": [
       "<div>\n",
       "<table border=\"1\" class=\"dataframe\">\n",
       "  <thead>\n",
       "    <tr style=\"text-align: right;\">\n",
       "      <th></th>\n",
       "      <th></th>\n",
       "      <th>SalesForecast</th>\n",
       "    </tr>\n",
       "    <tr>\n",
       "      <th>Date</th>\n",
       "      <th>Store</th>\n",
       "      <th></th>\n",
       "    </tr>\n",
       "  </thead>\n",
       "  <tbody>\n",
       "    <tr>\n",
       "      <th rowspan=\"5\" valign=\"top\">2015-09-17</th>\n",
       "      <th>262</th>\n",
       "      <td>16660</td>\n",
       "    </tr>\n",
       "    <tr>\n",
       "      <th>335</th>\n",
       "      <td>16747</td>\n",
       "    </tr>\n",
       "    <tr>\n",
       "      <th>562</th>\n",
       "      <td>16289</td>\n",
       "    </tr>\n",
       "    <tr>\n",
       "      <th>733</th>\n",
       "      <td>15415</td>\n",
       "    </tr>\n",
       "    <tr>\n",
       "      <th>769</th>\n",
       "      <td>11083</td>\n",
       "    </tr>\n",
       "  </tbody>\n",
       "</table>\n",
       "</div>"
      ],
      "text/plain": [
       "                  SalesForecast\n",
       "Date       Store               \n",
       "2015-09-17 262            16660\n",
       "           335            16747\n",
       "           562            16289\n",
       "           733            15415\n",
       "           769            11083"
      ]
     },
     "execution_count": 217,
     "metadata": {},
     "output_type": "execute_result"
    }
   ],
   "source": [
    "out.head()"
   ]
  },
  {
   "cell_type": "code",
   "execution_count": 195,
   "metadata": {
    "collapsed": false
   },
   "outputs": [
    {
     "data": {
      "text/html": [
       "<div>\n",
       "<table border=\"1\" class=\"dataframe\">\n",
       "  <thead>\n",
       "    <tr style=\"text-align: right;\">\n",
       "      <th></th>\n",
       "      <th></th>\n",
       "      <th>SalesForecast</th>\n",
       "    </tr>\n",
       "    <tr>\n",
       "      <th>Date</th>\n",
       "      <th>Store</th>\n",
       "      <th></th>\n",
       "    </tr>\n",
       "  </thead>\n",
       "  <tbody>\n",
       "    <tr>\n",
       "      <th rowspan=\"5\" valign=\"top\">2015-09-17</th>\n",
       "      <th>262</th>\n",
       "      <td>16660</td>\n",
       "    </tr>\n",
       "    <tr>\n",
       "      <th>335</th>\n",
       "      <td>16747</td>\n",
       "    </tr>\n",
       "    <tr>\n",
       "      <th>562</th>\n",
       "      <td>16289</td>\n",
       "    </tr>\n",
       "    <tr>\n",
       "      <th>733</th>\n",
       "      <td>15415</td>\n",
       "    </tr>\n",
       "    <tr>\n",
       "      <th>769</th>\n",
       "      <td>11083</td>\n",
       "    </tr>\n",
       "  </tbody>\n",
       "</table>\n",
       "</div>"
      ],
      "text/plain": [
       "                  SalesForecast\n",
       "Date       Store               \n",
       "2015-09-17 262            16660\n",
       "           335            16747\n",
       "           562            16289\n",
       "           733            15415\n",
       "           769            11083"
      ]
     },
     "execution_count": 195,
     "metadata": {},
     "output_type": "execute_result"
    }
   ],
   "source": [
    "out.head()"
   ]
  },
  {
   "cell_type": "code",
   "execution_count": 116,
   "metadata": {
    "collapsed": false
   },
   "outputs": [
    {
     "data": {
      "text/plain": [
       "<class 'pandas.core.panel.Panel'>\n",
       "Dimensions: 10 (items) x 942 (major_axis) x 6 (minor_axis)\n",
       "Items axis: 85 to 1097\n",
       "Major_axis axis: 2015-07-31 00:00:00 to 2013-01-01 00:00:00\n",
       "Minor_axis axis: Store to SchoolHoliday"
      ]
     },
     "execution_count": 116,
     "metadata": {},
     "output_type": "execute_result"
    }
   ],
   "source": [
    "panel_dict = dict.fromkeys(id_list)\n",
    "\n",
    "train_copy = train.set_index('Date')\n",
    "for store in id_list:\n",
    "    panel_dict[store] = train_copy.query('Store == @store')\n",
    "    \n",
    "panel_train = pd.Panel(panel_dict)\n",
    "panel_train\n"
   ]
  },
  {
   "cell_type": "code",
   "execution_count": 120,
   "metadata": {
    "collapsed": false
   },
   "outputs": [
    {
     "data": {
      "text/html": [
       "<div>\n",
       "<table border=\"1\" class=\"dataframe\">\n",
       "  <thead>\n",
       "    <tr style=\"text-align: right;\">\n",
       "      <th>Store</th>\n",
       "      <th>85</th>\n",
       "      <th>262</th>\n",
       "      <th>335</th>\n",
       "      <th>423</th>\n",
       "      <th>494</th>\n",
       "      <th>562</th>\n",
       "      <th>682</th>\n",
       "      <th>733</th>\n",
       "      <th>769</th>\n",
       "      <th>1097</th>\n",
       "    </tr>\n",
       "    <tr>\n",
       "      <th>Date</th>\n",
       "      <th></th>\n",
       "      <th></th>\n",
       "      <th></th>\n",
       "      <th></th>\n",
       "      <th></th>\n",
       "      <th></th>\n",
       "      <th></th>\n",
       "      <th></th>\n",
       "      <th></th>\n",
       "      <th></th>\n",
       "    </tr>\n",
       "  </thead>\n",
       "  <tbody>\n",
       "    <tr>\n",
       "      <th>2013-01-01</th>\n",
       "      <td>4220</td>\n",
       "      <td>17267</td>\n",
       "      <td>2401</td>\n",
       "      <td>9643</td>\n",
       "      <td>3113</td>\n",
       "      <td>8498</td>\n",
       "      <td>3375</td>\n",
       "      <td>10765</td>\n",
       "      <td>5035</td>\n",
       "      <td>5961</td>\n",
       "    </tr>\n",
       "    <tr>\n",
       "      <th>2013-01-02</th>\n",
       "      <td>6069</td>\n",
       "      <td>16964</td>\n",
       "      <td>11542</td>\n",
       "      <td>9570</td>\n",
       "      <td>6300</td>\n",
       "      <td>15472</td>\n",
       "      <td>10526</td>\n",
       "      <td>12477</td>\n",
       "      <td>7276</td>\n",
       "      <td>6688</td>\n",
       "    </tr>\n",
       "    <tr>\n",
       "      <th>2013-01-03</th>\n",
       "      <td>5246</td>\n",
       "      <td>16616</td>\n",
       "      <td>10686</td>\n",
       "      <td>8254</td>\n",
       "      <td>6209</td>\n",
       "      <td>14807</td>\n",
       "      <td>11041</td>\n",
       "      <td>12639</td>\n",
       "      <td>6972</td>\n",
       "      <td>7053</td>\n",
       "    </tr>\n",
       "    <tr>\n",
       "      <th>2013-01-04</th>\n",
       "      <td>5339</td>\n",
       "      <td>16849</td>\n",
       "      <td>10420</td>\n",
       "      <td>9285</td>\n",
       "      <td>6772</td>\n",
       "      <td>15357</td>\n",
       "      <td>11376</td>\n",
       "      <td>12078</td>\n",
       "      <td>7374</td>\n",
       "      <td>6430</td>\n",
       "    </tr>\n",
       "    <tr>\n",
       "      <th>2013-01-05</th>\n",
       "      <td>5774</td>\n",
       "      <td>14868</td>\n",
       "      <td>7765</td>\n",
       "      <td>7095</td>\n",
       "      <td>4891</td>\n",
       "      <td>12554</td>\n",
       "      <td>7593</td>\n",
       "      <td>10674</td>\n",
       "      <td>6877</td>\n",
       "      <td>5460</td>\n",
       "    </tr>\n",
       "  </tbody>\n",
       "</table>\n",
       "</div>"
      ],
      "text/plain": [
       "Store       85     262    335   423   494    562    682    733   769   1097\n",
       "Date                                                                       \n",
       "2013-01-01  4220  17267   2401  9643  3113   8498   3375  10765  5035  5961\n",
       "2013-01-02  6069  16964  11542  9570  6300  15472  10526  12477  7276  6688\n",
       "2013-01-03  5246  16616  10686  8254  6209  14807  11041  12639  6972  7053\n",
       "2013-01-04  5339  16849  10420  9285  6772  15357  11376  12078  7374  6430\n",
       "2013-01-05  5774  14868   7765  7095  4891  12554   7593  10674  6877  5460"
      ]
     },
     "execution_count": 120,
     "metadata": {},
     "output_type": "execute_result"
    }
   ],
   "source": [
    "ct = pd.pivot_table(train, values='Sales', index='Date', \n",
    "                            columns='Store', aggfunc=np.mean)\n",
    "ct.head()"
   ]
  },
  {
   "cell_type": "code",
   "execution_count": 121,
   "metadata": {
    "collapsed": false
   },
   "outputs": [
    {
     "data": {
      "text/html": [
       "<div>\n",
       "<table border=\"1\" class=\"dataframe\">\n",
       "  <thead>\n",
       "    <tr style=\"text-align: right;\">\n",
       "      <th>Store</th>\n",
       "      <th>85</th>\n",
       "      <th>262</th>\n",
       "      <th>335</th>\n",
       "      <th>423</th>\n",
       "      <th>494</th>\n",
       "      <th>562</th>\n",
       "      <th>682</th>\n",
       "      <th>733</th>\n",
       "      <th>769</th>\n",
       "      <th>1097</th>\n",
       "    </tr>\n",
       "    <tr>\n",
       "      <th>Date</th>\n",
       "      <th></th>\n",
       "      <th></th>\n",
       "      <th></th>\n",
       "      <th></th>\n",
       "      <th></th>\n",
       "      <th></th>\n",
       "      <th></th>\n",
       "      <th></th>\n",
       "      <th></th>\n",
       "      <th></th>\n",
       "    </tr>\n",
       "  </thead>\n",
       "  <tbody>\n",
       "    <tr>\n",
       "      <th>2014-08-02</th>\n",
       "      <td>5845</td>\n",
       "      <td>19920</td>\n",
       "      <td>9115</td>\n",
       "      <td>9331</td>\n",
       "      <td>5922</td>\n",
       "      <td>14427</td>\n",
       "      <td>6985</td>\n",
       "      <td>15521</td>\n",
       "      <td>10893</td>\n",
       "      <td>7112</td>\n",
       "    </tr>\n",
       "    <tr>\n",
       "      <th>2014-08-03</th>\n",
       "      <td>12265</td>\n",
       "      <td>30097</td>\n",
       "      <td>8721</td>\n",
       "      <td>14633</td>\n",
       "      <td>8759</td>\n",
       "      <td>21206</td>\n",
       "      <td>6726</td>\n",
       "      <td>16139</td>\n",
       "      <td>11572</td>\n",
       "      <td>12606</td>\n",
       "    </tr>\n",
       "    <tr>\n",
       "      <th>2014-08-04</th>\n",
       "      <td>8779</td>\n",
       "      <td>20103</td>\n",
       "      <td>19878</td>\n",
       "      <td>11439</td>\n",
       "      <td>10004</td>\n",
       "      <td>20483</td>\n",
       "      <td>12031</td>\n",
       "      <td>16785</td>\n",
       "      <td>10955</td>\n",
       "      <td>9826</td>\n",
       "    </tr>\n",
       "    <tr>\n",
       "      <th>2014-08-05</th>\n",
       "      <td>7055</td>\n",
       "      <td>19051</td>\n",
       "      <td>17000</td>\n",
       "      <td>10889</td>\n",
       "      <td>8687</td>\n",
       "      <td>17560</td>\n",
       "      <td>11256</td>\n",
       "      <td>15835</td>\n",
       "      <td>10117</td>\n",
       "      <td>8937</td>\n",
       "    </tr>\n",
       "    <tr>\n",
       "      <th>2014-08-06</th>\n",
       "      <td>7098</td>\n",
       "      <td>18572</td>\n",
       "      <td>15869</td>\n",
       "      <td>10014</td>\n",
       "      <td>8248</td>\n",
       "      <td>17776</td>\n",
       "      <td>10841</td>\n",
       "      <td>15501</td>\n",
       "      <td>10024</td>\n",
       "      <td>8448</td>\n",
       "    </tr>\n",
       "  </tbody>\n",
       "</table>\n",
       "</div>"
      ],
      "text/plain": [
       "Store        85     262    335    423    494    562    682    733    769   \\\n",
       "Date                                                                        \n",
       "2014-08-02   5845  19920   9115   9331   5922  14427   6985  15521  10893   \n",
       "2014-08-03  12265  30097   8721  14633   8759  21206   6726  16139  11572   \n",
       "2014-08-04   8779  20103  19878  11439  10004  20483  12031  16785  10955   \n",
       "2014-08-05   7055  19051  17000  10889   8687  17560  11256  15835  10117   \n",
       "2014-08-06   7098  18572  15869  10014   8248  17776  10841  15501  10024   \n",
       "\n",
       "Store        1097  \n",
       "Date               \n",
       "2014-08-02   7112  \n",
       "2014-08-03  12606  \n",
       "2014-08-04   9826  \n",
       "2014-08-05   8937  \n",
       "2014-08-06   8448  "
      ]
     },
     "execution_count": 121,
     "metadata": {},
     "output_type": "execute_result"
    }
   ],
   "source": [
    "ct_lag = ct.iloc[-364:,:]\n",
    "ct_lag.head()"
   ]
  },
  {
   "cell_type": "code",
   "execution_count": 142,
   "metadata": {
    "collapsed": false
   },
   "outputs": [
    {
     "data": {
      "text/html": [
       "<div>\n",
       "<table border=\"1\" class=\"dataframe\">\n",
       "  <thead>\n",
       "    <tr style=\"text-align: right;\">\n",
       "      <th></th>\n",
       "      <th></th>\n",
       "      <th>0</th>\n",
       "    </tr>\n",
       "    <tr>\n",
       "      <th>Date</th>\n",
       "      <th>Store</th>\n",
       "      <th></th>\n",
       "    </tr>\n",
       "  </thead>\n",
       "  <tbody>\n",
       "    <tr>\n",
       "      <th>2015-08-01</th>\n",
       "      <th>85</th>\n",
       "      <td>5845</td>\n",
       "    </tr>\n",
       "    <tr>\n",
       "      <th>2015-08-02</th>\n",
       "      <th>85</th>\n",
       "      <td>12265</td>\n",
       "    </tr>\n",
       "    <tr>\n",
       "      <th>2015-08-03</th>\n",
       "      <th>85</th>\n",
       "      <td>8779</td>\n",
       "    </tr>\n",
       "    <tr>\n",
       "      <th>2015-08-04</th>\n",
       "      <th>85</th>\n",
       "      <td>7055</td>\n",
       "    </tr>\n",
       "    <tr>\n",
       "      <th>2015-08-05</th>\n",
       "      <th>85</th>\n",
       "      <td>7098</td>\n",
       "    </tr>\n",
       "  </tbody>\n",
       "</table>\n",
       "</div>"
      ],
      "text/plain": [
       "                      0\n",
       "Date       Store       \n",
       "2015-08-01 85      5845\n",
       "2015-08-02 85     12265\n",
       "2015-08-03 85      8779\n",
       "2015-08-04 85      7055\n",
       "2015-08-05 85      7098"
      ]
     },
     "execution_count": 142,
     "metadata": {},
     "output_type": "execute_result"
    }
   ],
   "source": [
    "ct_copy = ct_lag.unstack().reset_index()\n",
    "ct_copy.Date = ct_copy.Date + np.timedelta64(364,'D')\n",
    "ct_copy.set_index(['Date','Store'], inplace=True)\n",
    "ct_copy.head()"
   ]
  },
  {
   "cell_type": "code",
   "execution_count": 209,
   "metadata": {
    "collapsed": false
   },
   "outputs": [
    {
     "data": {
      "text/plain": [
       "Timestamp('2014-08-02 00:00:00')"
      ]
     },
     "execution_count": 209,
     "metadata": {},
     "output_type": "execute_result"
    }
   ],
   "source": [
    "train.Date.iloc[3630]"
   ]
  },
  {
   "cell_type": "code",
   "execution_count": 211,
   "metadata": {
    "collapsed": false
   },
   "outputs": [
    {
     "data": {
      "text/plain": [
       "Timestamp('2015-08-01 00:00:00')"
      ]
     },
     "execution_count": 211,
     "metadata": {},
     "output_type": "execute_result"
    }
   ],
   "source": [
    "(train.Date + np.timedelta64(364,'D')).iloc[3630]"
   ]
  },
  {
   "cell_type": "code",
   "execution_count": null,
   "metadata": {
    "collapsed": true
   },
   "outputs": [],
   "source": []
  }
 ],
 "metadata": {
  "kernelspec": {
   "display_name": "Python 2",
   "language": "python",
   "name": "python2"
  },
  "language_info": {
   "codemirror_mode": {
    "name": "ipython",
    "version": 2
   },
   "file_extension": ".py",
   "mimetype": "text/x-python",
   "name": "python",
   "nbconvert_exporter": "python",
   "pygments_lexer": "ipython2",
   "version": "2.7.10"
  }
 },
 "nbformat": 4,
 "nbformat_minor": 0
}
